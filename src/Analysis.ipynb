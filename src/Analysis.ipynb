{
 "cells": [
  {
   "cell_type": "markdown",
   "metadata": {},
   "source": [
    "Csvcubed implementation"
   ]
  },
  {
   "cell_type": "code",
   "execution_count": 1,
   "metadata": {},
   "outputs": [
    {
     "name": "stderr",
     "output_type": "stream",
     "text": [
      "Could not find unit column name from the DSD, hence returning None\n",
      "Could not find unit column name from the DSD, hence returning None\n"
     ]
    }
   ],
   "source": [
    "import plotly.express as px\n",
    "\n",
    "import my_package\n",
    "from my_package import load\n",
    "from my_package.load import *\n",
    "\n",
    "df = load.buildDataFrame()"
   ]
  },
  {
   "cell_type": "code",
   "execution_count": null,
   "metadata": {},
   "outputs": [
    {
     "data": {
      "text/plain": [
       "[QubeComponentResult(property='ambulance-response-times-by-local-authority.csv#measure/ambulance-response-time-median', property_label='Ambulance response time, median', property_type='Measure', csv_col_title='', required=True),\n",
       " QubeComponentResult(property='ambulance-response-times-by-local-authority.csv#dimension/year', property_label='Year', property_type='Dimension', csv_col_title='Year', required=True),\n",
       " QubeComponentResult(property='ambulance-response-times-by-local-authority.csv#dimension/geography', property_label='Geography', property_type='Dimension', csv_col_title='LGD2014', required=True),\n",
       " QubeComponentResult(property='http://purl.org/linked-data/cube#measureType', property_label='', property_type='Dimension', csv_col_title='Statistic', required=True),\n",
       " QubeComponentResult(property='http://purl.org/linked-data/sdmx/2009/attribute#unitMeasure', property_label='', property_type='Attribute', csv_col_title='', required=True)]"
      ]
     },
     "metadata": {},
     "output_type": "display_data"
    }
   ],
   "source": [
    "load.dsd_components.qube_components"
   ]
  },
  {
   "cell_type": "code",
   "execution_count": 2,
   "metadata": {},
   "outputs": [
    {
     "data": {
      "text/plain": [
       "'STATISTIC CODE'"
      ]
     },
     "execution_count": 2,
     "metadata": {},
     "output_type": "execute_result"
    }
   ],
   "source": [
    "df.obs_val_column_title"
   ]
  },
  {
   "cell_type": "code",
   "execution_count": 4,
   "metadata": {},
   "outputs": [
    {
     "data": {
      "text/plain": [
       "{'LGD2014', 'Year'}"
      ]
     },
     "execution_count": 4,
     "metadata": {},
     "output_type": "execute_result"
    }
   ],
   "source": [
    "df.dimension_column_titles"
   ]
  },
  {
   "cell_type": "code",
   "execution_count": 5,
   "metadata": {},
   "outputs": [
    {
     "data": {
      "text/plain": [
       "'Statistic'"
      ]
     },
     "execution_count": 5,
     "metadata": {},
     "output_type": "execute_result"
    }
   ],
   "source": [
    "df.measure_column_title"
   ]
  },
  {
   "cell_type": "code",
   "execution_count": 6,
   "metadata": {},
   "outputs": [
    {
     "data": {
      "text/plain": [
       "{'ambulance-response-time-median': 'Ambulance response time, median'}"
      ]
     },
     "execution_count": 6,
     "metadata": {},
     "output_type": "execute_result"
    }
   ],
   "source": [
    "df.measure_dict"
   ]
  },
  {
   "cell_type": "code",
   "execution_count": 7,
   "metadata": {},
   "outputs": [
    {
     "data": {
      "text/plain": [
       "''"
      ]
     },
     "execution_count": 7,
     "metadata": {},
     "output_type": "execute_result"
    }
   ],
   "source": [
    "df.units_column_title"
   ]
  },
  {
   "cell_type": "code",
   "execution_count": 8,
   "metadata": {},
   "outputs": [
    {
     "data": {
      "text/html": [
       "<div>\n",
       "<style scoped>\n",
       "    .dataframe tbody tr th:only-of-type {\n",
       "        vertical-align: middle;\n",
       "    }\n",
       "\n",
       "    .dataframe tbody tr th {\n",
       "        vertical-align: top;\n",
       "    }\n",
       "\n",
       "    .dataframe thead th {\n",
       "        text-align: right;\n",
       "    }\n",
       "</style>\n",
       "<table border=\"1\" class=\"dataframe\">\n",
       "  <thead>\n",
       "    <tr style=\"text-align: right;\">\n",
       "      <th></th>\n",
       "      <th>STATISTIC CODE</th>\n",
       "      <th>Statistic</th>\n",
       "      <th>TLIST(A1)</th>\n",
       "      <th>Year</th>\n",
       "      <th>LGD2014</th>\n",
       "      <th>Local Government District</th>\n",
       "      <th>VALUE</th>\n",
       "    </tr>\n",
       "  </thead>\n",
       "  <tbody>\n",
       "    <tr>\n",
       "      <th>0</th>\n",
       "      <td>ART</td>\n",
       "      <td>Ambulance response time, median</td>\n",
       "      <td>2010</td>\n",
       "      <td>2010</td>\n",
       "      <td>N09000001</td>\n",
       "      <td>Antrim and Newtownabbey</td>\n",
       "      <td>442</td>\n",
       "    </tr>\n",
       "    <tr>\n",
       "      <th>1</th>\n",
       "      <td>ART</td>\n",
       "      <td>Ambulance response time, median</td>\n",
       "      <td>2010</td>\n",
       "      <td>2010</td>\n",
       "      <td>N09000002</td>\n",
       "      <td>Armagh City, Banbridge and Craigavon</td>\n",
       "      <td>429</td>\n",
       "    </tr>\n",
       "    <tr>\n",
       "      <th>2</th>\n",
       "      <td>ART</td>\n",
       "      <td>Ambulance response time, median</td>\n",
       "      <td>2010</td>\n",
       "      <td>2010</td>\n",
       "      <td>N09000003</td>\n",
       "      <td>Belfast</td>\n",
       "      <td>340</td>\n",
       "    </tr>\n",
       "    <tr>\n",
       "      <th>3</th>\n",
       "      <td>ART</td>\n",
       "      <td>Ambulance response time, median</td>\n",
       "      <td>2010</td>\n",
       "      <td>2010</td>\n",
       "      <td>N09000004</td>\n",
       "      <td>Causeway Coast and Glens</td>\n",
       "      <td>529</td>\n",
       "    </tr>\n",
       "    <tr>\n",
       "      <th>4</th>\n",
       "      <td>ART</td>\n",
       "      <td>Ambulance response time, median</td>\n",
       "      <td>2010</td>\n",
       "      <td>2010</td>\n",
       "      <td>N09000005</td>\n",
       "      <td>Derry City and Strabane</td>\n",
       "      <td>379</td>\n",
       "    </tr>\n",
       "    <tr>\n",
       "      <th>...</th>\n",
       "      <td>...</td>\n",
       "      <td>...</td>\n",
       "      <td>...</td>\n",
       "      <td>...</td>\n",
       "      <td>...</td>\n",
       "      <td>...</td>\n",
       "      <td>...</td>\n",
       "    </tr>\n",
       "    <tr>\n",
       "      <th>139</th>\n",
       "      <td>ART</td>\n",
       "      <td>Ambulance response time, median</td>\n",
       "      <td>2021</td>\n",
       "      <td>2021</td>\n",
       "      <td>N09000008</td>\n",
       "      <td>Mid and East Antrim</td>\n",
       "      <td>1727</td>\n",
       "    </tr>\n",
       "    <tr>\n",
       "      <th>140</th>\n",
       "      <td>ART</td>\n",
       "      <td>Ambulance response time, median</td>\n",
       "      <td>2021</td>\n",
       "      <td>2021</td>\n",
       "      <td>N09000009</td>\n",
       "      <td>Mid Ulster</td>\n",
       "      <td>1624</td>\n",
       "    </tr>\n",
       "    <tr>\n",
       "      <th>141</th>\n",
       "      <td>ART</td>\n",
       "      <td>Ambulance response time, median</td>\n",
       "      <td>2021</td>\n",
       "      <td>2021</td>\n",
       "      <td>N09000010</td>\n",
       "      <td>Newry, Mourne and Down</td>\n",
       "      <td>2244</td>\n",
       "    </tr>\n",
       "    <tr>\n",
       "      <th>142</th>\n",
       "      <td>ART</td>\n",
       "      <td>Ambulance response time, median</td>\n",
       "      <td>2021</td>\n",
       "      <td>2021</td>\n",
       "      <td>N09000011</td>\n",
       "      <td>Ards and North Down</td>\n",
       "      <td>1790</td>\n",
       "    </tr>\n",
       "    <tr>\n",
       "      <th>143</th>\n",
       "      <td>ART</td>\n",
       "      <td>Ambulance response time, median</td>\n",
       "      <td>2021</td>\n",
       "      <td>2021</td>\n",
       "      <td>N92000002</td>\n",
       "      <td>NI</td>\n",
       "      <td>1477</td>\n",
       "    </tr>\n",
       "  </tbody>\n",
       "</table>\n",
       "<p>144 rows × 7 columns</p>\n",
       "</div>"
      ],
      "text/plain": [
       "    STATISTIC CODE                        Statistic  TLIST(A1)  Year  \\\n",
       "0              ART  Ambulance response time, median       2010  2010   \n",
       "1              ART  Ambulance response time, median       2010  2010   \n",
       "2              ART  Ambulance response time, median       2010  2010   \n",
       "3              ART  Ambulance response time, median       2010  2010   \n",
       "4              ART  Ambulance response time, median       2010  2010   \n",
       "..             ...                              ...        ...   ...   \n",
       "139            ART  Ambulance response time, median       2021  2021   \n",
       "140            ART  Ambulance response time, median       2021  2021   \n",
       "141            ART  Ambulance response time, median       2021  2021   \n",
       "142            ART  Ambulance response time, median       2021  2021   \n",
       "143            ART  Ambulance response time, median       2021  2021   \n",
       "\n",
       "       LGD2014             Local Government District  VALUE  \n",
       "0    N09000001               Antrim and Newtownabbey    442  \n",
       "1    N09000002  Armagh City, Banbridge and Craigavon    429  \n",
       "2    N09000003                               Belfast    340  \n",
       "3    N09000004              Causeway Coast and Glens    529  \n",
       "4    N09000005               Derry City and Strabane    379  \n",
       "..         ...                                   ...    ...  \n",
       "139  N09000008                   Mid and East Antrim   1727  \n",
       "140  N09000009                            Mid Ulster   1624  \n",
       "141  N09000010                Newry, Mourne and Down   2244  \n",
       "142  N09000011                   Ards and North Down   1790  \n",
       "143  N92000002                                    NI   1477  \n",
       "\n",
       "[144 rows x 7 columns]"
      ]
     },
     "execution_count": 8,
     "metadata": {},
     "output_type": "execute_result"
    }
   ],
   "source": [
    "df.data"
   ]
  },
  {
   "cell_type": "code",
   "execution_count": 9,
   "metadata": {},
   "outputs": [
    {
     "data": {
      "text/plain": [
       "STATISTIC CODE                 object\n",
       "Statistic                    category\n",
       "TLIST(A1)                       int64\n",
       "Year                         category\n",
       "LGD2014                      category\n",
       "Local Government District      object\n",
       "VALUE                           int64\n",
       "dtype: object"
      ]
     },
     "execution_count": 9,
     "metadata": {},
     "output_type": "execute_result"
    }
   ],
   "source": [
    "df.data.dtypes"
   ]
  },
  {
   "cell_type": "code",
   "execution_count": 10,
   "metadata": {},
   "outputs": [
    {
     "ename": "ValueError",
     "evalue": "Value of 'y' is not the name of a column in 'data_frame'. Expected one of ['STATISTIC CODE', 'Statistic', 'TLIST(A1)', 'Year', 'LGD2014', 'Local Government District', 'VALUE'] but received: Language",
     "output_type": "error",
     "traceback": [
      "\u001b[0;31m---------------------------------------------------------------------------\u001b[0m",
      "\u001b[0;31mValueError\u001b[0m                                Traceback (most recent call last)",
      "Cell \u001b[0;32mIn [10], line 3\u001b[0m\n\u001b[1;32m      1\u001b[0m language_performed \u001b[39m=\u001b[39m df\u001b[39m.\u001b[39mdata\u001b[39m.\u001b[39mdrop_duplicates(subset\u001b[39m=\u001b[39m\u001b[39m'\u001b[39m\u001b[39mYear\u001b[39m\u001b[39m'\u001b[39m, keep\u001b[39m=\u001b[39m\u001b[39m\"\u001b[39m\u001b[39mlast\u001b[39m\u001b[39m\"\u001b[39m)\u001b[39m.\u001b[39msort_values(by\u001b[39m=\u001b[39m[\u001b[39m'\u001b[39m\u001b[39mYear\u001b[39m\u001b[39m'\u001b[39m], ascending\u001b[39m=\u001b[39m\u001b[39mTrue\u001b[39;00m)\n\u001b[0;32m----> 3\u001b[0m fig \u001b[39m=\u001b[39m px\u001b[39m.\u001b[39;49mscatter(language_performed, x\u001b[39m=\u001b[39;49m\u001b[39m\"\u001b[39;49m\u001b[39mYear\u001b[39;49m\u001b[39m\"\u001b[39;49m, y\u001b[39m=\u001b[39;49m\u001b[39m\"\u001b[39;49m\u001b[39mLanguage\u001b[39;49m\u001b[39m\"\u001b[39;49m)\n\u001b[1;32m      4\u001b[0m fig\u001b[39m.\u001b[39mupdate_yaxes(autorange\u001b[39m=\u001b[39m\u001b[39m\"\u001b[39m\u001b[39mreversed\u001b[39m\u001b[39m\"\u001b[39m)\n\u001b[1;32m      5\u001b[0m fig\u001b[39m.\u001b[39mupdate_layout(\n\u001b[1;32m      6\u001b[0m     title\u001b[39m=\u001b[39m{\n\u001b[1;32m      7\u001b[0m         \u001b[39m'\u001b[39m\u001b[39mtext\u001b[39m\u001b[39m'\u001b[39m: \u001b[39m\"\u001b[39m\u001b[39mLanguage Used for Each Years Performance\u001b[39m\u001b[39m\"\u001b[39m,\n\u001b[0;32m   (...)\u001b[0m\n\u001b[1;32m     10\u001b[0m         \u001b[39m'\u001b[39m\u001b[39mxanchor\u001b[39m\u001b[39m'\u001b[39m: \u001b[39m'\u001b[39m\u001b[39mcenter\u001b[39m\u001b[39m'\u001b[39m,\n\u001b[1;32m     11\u001b[0m         \u001b[39m'\u001b[39m\u001b[39myanchor\u001b[39m\u001b[39m'\u001b[39m: \u001b[39m'\u001b[39m\u001b[39mtop\u001b[39m\u001b[39m'\u001b[39m})\n",
      "File \u001b[0;32m~/.pyenv/versions/3.9.0/envs/project_env/lib/python3.9/site-packages/plotly/express/_chart_types.py:66\u001b[0m, in \u001b[0;36mscatter\u001b[0;34m(data_frame, x, y, color, symbol, size, hover_name, hover_data, custom_data, text, facet_row, facet_col, facet_col_wrap, facet_row_spacing, facet_col_spacing, error_x, error_x_minus, error_y, error_y_minus, animation_frame, animation_group, category_orders, labels, orientation, color_discrete_sequence, color_discrete_map, color_continuous_scale, range_color, color_continuous_midpoint, symbol_sequence, symbol_map, opacity, size_max, marginal_x, marginal_y, trendline, trendline_options, trendline_color_override, trendline_scope, log_x, log_y, range_x, range_y, render_mode, title, template, width, height)\u001b[0m\n\u001b[1;32m     12\u001b[0m \u001b[39mdef\u001b[39;00m \u001b[39mscatter\u001b[39m(\n\u001b[1;32m     13\u001b[0m     data_frame\u001b[39m=\u001b[39m\u001b[39mNone\u001b[39;00m,\n\u001b[1;32m     14\u001b[0m     x\u001b[39m=\u001b[39m\u001b[39mNone\u001b[39;00m,\n\u001b[0;32m   (...)\u001b[0m\n\u001b[1;32m     60\u001b[0m     height\u001b[39m=\u001b[39m\u001b[39mNone\u001b[39;00m,\n\u001b[1;32m     61\u001b[0m ) \u001b[39m-\u001b[39m\u001b[39m>\u001b[39m go\u001b[39m.\u001b[39mFigure:\n\u001b[1;32m     62\u001b[0m     \u001b[39m\"\"\"\u001b[39;00m\n\u001b[1;32m     63\u001b[0m \u001b[39m    In a scatter plot, each row of `data_frame` is represented by a symbol\u001b[39;00m\n\u001b[1;32m     64\u001b[0m \u001b[39m    mark in 2D space.\u001b[39;00m\n\u001b[1;32m     65\u001b[0m \u001b[39m    \"\"\"\u001b[39;00m\n\u001b[0;32m---> 66\u001b[0m     \u001b[39mreturn\u001b[39;00m make_figure(args\u001b[39m=\u001b[39;49m\u001b[39mlocals\u001b[39;49m(), constructor\u001b[39m=\u001b[39;49mgo\u001b[39m.\u001b[39;49mScatter)\n",
      "File \u001b[0;32m~/.pyenv/versions/3.9.0/envs/project_env/lib/python3.9/site-packages/plotly/express/_core.py:1990\u001b[0m, in \u001b[0;36mmake_figure\u001b[0;34m(args, constructor, trace_patch, layout_patch)\u001b[0m\n\u001b[1;32m   1987\u001b[0m layout_patch \u001b[39m=\u001b[39m layout_patch \u001b[39mor\u001b[39;00m {}\n\u001b[1;32m   1988\u001b[0m apply_default_cascade(args)\n\u001b[0;32m-> 1990\u001b[0m args \u001b[39m=\u001b[39m build_dataframe(args, constructor)\n\u001b[1;32m   1991\u001b[0m \u001b[39mif\u001b[39;00m constructor \u001b[39min\u001b[39;00m [go\u001b[39m.\u001b[39mTreemap, go\u001b[39m.\u001b[39mSunburst, go\u001b[39m.\u001b[39mIcicle] \u001b[39mand\u001b[39;00m args[\u001b[39m\"\u001b[39m\u001b[39mpath\u001b[39m\u001b[39m\"\u001b[39m] \u001b[39mis\u001b[39;00m \u001b[39mnot\u001b[39;00m \u001b[39mNone\u001b[39;00m:\n\u001b[1;32m   1992\u001b[0m     args \u001b[39m=\u001b[39m process_dataframe_hierarchy(args)\n",
      "File \u001b[0;32m~/.pyenv/versions/3.9.0/envs/project_env/lib/python3.9/site-packages/plotly/express/_core.py:1405\u001b[0m, in \u001b[0;36mbuild_dataframe\u001b[0;34m(args, constructor)\u001b[0m\n\u001b[1;32m   1402\u001b[0m     args[\u001b[39m\"\u001b[39m\u001b[39mcolor\u001b[39m\u001b[39m\"\u001b[39m] \u001b[39m=\u001b[39m \u001b[39mNone\u001b[39;00m\n\u001b[1;32m   1403\u001b[0m \u001b[39m# now that things have been prepped, we do the systematic rewriting of `args`\u001b[39;00m\n\u001b[0;32m-> 1405\u001b[0m df_output, wide_id_vars \u001b[39m=\u001b[39m process_args_into_dataframe(\n\u001b[1;32m   1406\u001b[0m     args, wide_mode, var_name, value_name\n\u001b[1;32m   1407\u001b[0m )\n\u001b[1;32m   1409\u001b[0m \u001b[39m# now that `df_output` exists and `args` contains only references, we complete\u001b[39;00m\n\u001b[1;32m   1410\u001b[0m \u001b[39m# the special-case and wide-mode handling by further rewriting args and/or mutating\u001b[39;00m\n\u001b[1;32m   1411\u001b[0m \u001b[39m# df_output\u001b[39;00m\n\u001b[1;32m   1413\u001b[0m count_name \u001b[39m=\u001b[39m _escape_col_name(df_output, \u001b[39m\"\u001b[39m\u001b[39mcount\u001b[39m\u001b[39m\"\u001b[39m, [var_name, value_name])\n",
      "File \u001b[0;32m~/.pyenv/versions/3.9.0/envs/project_env/lib/python3.9/site-packages/plotly/express/_core.py:1207\u001b[0m, in \u001b[0;36mprocess_args_into_dataframe\u001b[0;34m(args, wide_mode, var_name, value_name)\u001b[0m\n\u001b[1;32m   1205\u001b[0m         \u001b[39mif\u001b[39;00m argument \u001b[39m==\u001b[39m \u001b[39m\"\u001b[39m\u001b[39mindex\u001b[39m\u001b[39m\"\u001b[39m:\n\u001b[1;32m   1206\u001b[0m             err_msg \u001b[39m+\u001b[39m\u001b[39m=\u001b[39m \u001b[39m\"\u001b[39m\u001b[39m\\n\u001b[39;00m\u001b[39m To use the index, pass it in directly as `df.index`.\u001b[39m\u001b[39m\"\u001b[39m\n\u001b[0;32m-> 1207\u001b[0m         \u001b[39mraise\u001b[39;00m \u001b[39mValueError\u001b[39;00m(err_msg)\n\u001b[1;32m   1208\u001b[0m \u001b[39melif\u001b[39;00m length \u001b[39mand\u001b[39;00m \u001b[39mlen\u001b[39m(df_input[argument]) \u001b[39m!=\u001b[39m length:\n\u001b[1;32m   1209\u001b[0m     \u001b[39mraise\u001b[39;00m \u001b[39mValueError\u001b[39;00m(\n\u001b[1;32m   1210\u001b[0m         \u001b[39m\"\u001b[39m\u001b[39mAll arguments should have the same length. \u001b[39m\u001b[39m\"\u001b[39m\n\u001b[1;32m   1211\u001b[0m         \u001b[39m\"\u001b[39m\u001b[39mThe length of column argument `df[\u001b[39m\u001b[39m%s\u001b[39;00m\u001b[39m]` is \u001b[39m\u001b[39m%d\u001b[39;00m\u001b[39m, whereas the \u001b[39m\u001b[39m\"\u001b[39m\n\u001b[0;32m   (...)\u001b[0m\n\u001b[1;32m   1218\u001b[0m         )\n\u001b[1;32m   1219\u001b[0m     )\n",
      "\u001b[0;31mValueError\u001b[0m: Value of 'y' is not the name of a column in 'data_frame'. Expected one of ['STATISTIC CODE', 'Statistic', 'TLIST(A1)', 'Year', 'LGD2014', 'Local Government District', 'VALUE'] but received: Language"
     ]
    }
   ],
   "source": [
    "language_performed = df.data.drop_duplicates(subset='Year', keep=\"last\").sort_values(by=['Year'], ascending=True)\n",
    "\n",
    "fig = px.scatter(language_performed, x=\"Year\", y=\"Language\")\n",
    "fig.update_yaxes(autorange=\"reversed\")\n",
    "fig.update_layout(\n",
    "    title={\n",
    "        'text': \"Language Used for Each Years Performance\",\n",
    "        'y':0.95,\n",
    "        'x':0.5,\n",
    "        'xanchor': 'center',\n",
    "        'yanchor': 'top'})\n",
    "fig.show()"
   ]
  },
  {
   "cell_type": "code",
   "execution_count": null,
   "metadata": {},
   "outputs": [],
   "source": [
    "final_ranks = df.data.loc[df.data['Measure'] == 'Final Rank'].sort_values(by=['Value'], ascending=True)\n",
    "\n",
    "fig = px.scatter(final_ranks, x=\"Value\", y=\"Language\")\n",
    "fig.update_yaxes(autorange=\"reversed\")\n",
    "fig.update_layout(\n",
    "    title={\n",
    "        'text': \"Final Ranks for Each Language\",\n",
    "        'y':0.95,\n",
    "        'x':0.5,\n",
    "        'xanchor': 'center',\n",
    "        'yanchor': 'top'})\n",
    "fig.show()"
   ]
  },
  {
   "cell_type": "code",
   "execution_count": null,
   "metadata": {},
   "outputs": [],
   "source": [
    "people_on_stage = df.data.loc[df.data['Measure'] == 'People on Stage'].sort_values(by=['Year'], ascending=True)\n",
    "\n",
    "fig = px.scatter(people_on_stage, x=\"Year\", y=\"Value\")\n",
    "fig.update_layout(\n",
    "    title={\n",
    "        'text': \"People on Stage for Each Years Performance\",\n",
    "        'y':0.95,\n",
    "        'x':0.5,\n",
    "        'xanchor': 'center',\n",
    "        'yanchor': 'top'})\n",
    "fig.show()"
   ]
  },
  {
   "cell_type": "code",
   "execution_count": null,
   "metadata": {},
   "outputs": [],
   "source": [
    "final_points = df.data.loc[df.data['Measure'] == 'Final Points'].sort_values(by=['Year'], ascending=True)\n",
    "\n",
    "fig = px.line(final_points, x=\"Year\", y=\"Value\")\n",
    "fig.update_layout(\n",
    "    title={\n",
    "        'text': \"Final Points Scored for Each Years Performance\",\n",
    "        'y':0.95,\n",
    "        'x':0.5,\n",
    "        'xanchor': 'center',\n",
    "        'yanchor': 'top'})\n",
    "fig.show()"
   ]
  }
 ],
 "metadata": {
  "kernelspec": {
   "display_name": "project_env",
   "language": "python",
   "name": "python3"
  },
  "language_info": {
   "codemirror_mode": {
    "name": "ipython",
    "version": 3
   },
   "file_extension": ".py",
   "mimetype": "text/x-python",
   "name": "python",
   "nbconvert_exporter": "python",
   "pygments_lexer": "ipython3",
   "version": "3.9.0 (default, Nov  3 2022, 15:40:51) \n[Clang 14.0.0 (clang-1400.0.29.102)]"
  },
  "orig_nbformat": 4,
  "vscode": {
   "interpreter": {
    "hash": "daeffded1e0431d9e8516201dcce841e0b45e5e59679c02cbfb0aa1c2b7e1c17"
   }
  }
 },
 "nbformat": 4,
 "nbformat_minor": 2
}
